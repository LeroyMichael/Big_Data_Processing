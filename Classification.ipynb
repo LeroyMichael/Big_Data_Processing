{
  "nbformat": 4,
  "nbformat_minor": 0,
  "metadata": {
    "colab": {
      "name": "Classification.ipynb",
      "provenance": [],
      "collapsed_sections": [],
      "include_colab_link": true
    },
    "kernelspec": {
      "name": "python3",
      "display_name": "Python 3"
    }
  },
  "cells": [
    {
      "cell_type": "markdown",
      "metadata": {
        "id": "view-in-github",
        "colab_type": "text"
      },
      "source": [
        "<a href=\"https://colab.research.google.com/github/LeroyMichael/Big_Data_Processing/blob/master/Classification.ipynb\" target=\"_parent\"><img src=\"https://colab.research.google.com/assets/colab-badge.svg\" alt=\"Open In Colab\"/></a>"
      ]
    },
    {
      "cell_type": "code",
      "metadata": {
        "id": "JwTfq3BdPwQc"
      },
      "source": [
        "!apt-get install openjdk-8-jdk-headless -qq > /dev/null\n",
        "!wget -q https://downloads.apache.org/spark/spark-3.0.0-preview2/spark-3.0.0-preview2-bin-hadoop2.7.tgz\n",
        "!tar -xvf spark-3.0.0-preview2-bin-hadoop2.7.tgz\n",
        "!pip install -q findspark\n",
        "import os\n",
        "os.environ[\"JAVA_HOME\"] = \"/usr/lib/jvm/java-8-openjdk-amd64\"\n",
        "os.environ[\"SPARK_HOME\"] = \"/content/spark-3.0.0-preview2-bin-hadoop2.7\"\n",
        "import findspark\n",
        "findspark.init()"
      ],
      "execution_count": null,
      "outputs": []
    },
    {
      "cell_type": "code",
      "metadata": {
        "id": "8p0iTBtfPx1O"
      },
      "source": [
        "from pyspark.sql import SparkSession\n",
        "from pyspark.sql.functions import when \n",
        "from pyspark.ml.feature import VectorAssembler, StandardScaler\n",
        "from pyspark.ml.classification import LogisticRegression\n",
        "from pyspark.ml.evaluation import BinaryClassificationEvaluator"
      ],
      "execution_count": null,
      "outputs": []
    },
    {
      "cell_type": "code",
      "metadata": {
        "id": "kZKfNFjKQIEP"
      },
      "source": [
        "spark = SparkSession.builder.getOrCreate() "
      ],
      "execution_count": null,
      "outputs": []
    },
    {
      "cell_type": "code",
      "metadata": {
        "id": "jWF-TKERQOKx"
      },
      "source": [
        "df_train = spark.read.option(\"inferSchema\", \"true\").csv(\"/content/drive/My Drive/Classification/Planet_Training.csv\", inferSchema=True,header=True)\n",
        "df_train = df_train.select(\"Water\", \"Temperature\", \"Atmosphere Color\", \"Habitable\")\n",
        "df_train = df_train.na.drop()"
      ],
      "execution_count": null,
      "outputs": []
    },
    {
      "cell_type": "code",
      "metadata": {
        "id": "QmrPCAcUQnrr"
      },
      "source": [
        "df_test = spark.read.option(\"inferSchema\", \"true\").csv(\"/content/drive/My Drive/Classification/Planet_Testing.csv\", inferSchema=True,header=True)\n",
        "df_test = df_test.select(\"Water\", \"Temperature\", \"Atmosphere Color\", \"Habitable\")\n",
        "df_test = df_test.na.drop()"
      ],
      "execution_count": null,
      "outputs": []
    },
    {
      "cell_type": "code",
      "metadata": {
        "id": "hRapCvhiQ2bl"
      },
      "source": [
        "def parse(df):\n",
        "  df = df.withColumn(\"Water\", when (df[\"Water\"]==\"Low\", 0).\n",
        "                     when(df[\"Water\"]==\"Medium\", 1).\n",
        "                     otherwise(2))\n",
        "  df = df.withColumn(\"Atmosphere color\", when (df[\"Atmosphere color\"]==\"Red\", 0).\n",
        "                     when(df[\"Atmosphere color\"]==\"Blue\", 1).\n",
        "                     otherwise(2))\n",
        "  cols = df.columns\n",
        "  cols.remove(\"Habitable\")\n",
        "  df = VectorAssembler(inputCols = cols, outputCol = \"Features\").transform(df)\n",
        "  scaler = StandardScaler(inputCol = \"Features\", outputCol = \"Scaled_Features\")\n",
        "  df = scaler.fit(df).transform(df)\n",
        "  return df"
      ],
      "execution_count": null,
      "outputs": []
    },
    {
      "cell_type": "code",
      "metadata": {
        "id": "jtdcROecRfvP"
      },
      "source": [
        "df_train=parse(df_train)\n",
        "df_test=parse(df_test)"
      ],
      "execution_count": null,
      "outputs": []
    },
    {
      "cell_type": "code",
      "metadata": {
        "id": "Af4DzyfmULBQ",
        "outputId": "f7fff15f-8ae5-46f3-9a07-43a12acdcd4a",
        "colab": {
          "base_uri": "https://localhost:8080/",
          "height": 35
        }
      },
      "source": [
        "model = LogisticRegression(featuresCol = \"Scaled_Features\", labelCol = \"Habitable\", maxIter=10).fit(df_train)\n",
        "\n",
        "prediction = model.transform(df_test)\n",
        "\n",
        "evaluator = BinaryClassificationEvaluator(labelCol = \"Habitable\")\n",
        "acc = evaluator.evaluate(prediction) * 100\n",
        "print(\"Accuracy : {}%\".format(acc))\n"
      ],
      "execution_count": null,
      "outputs": [
        {
          "output_type": "stream",
          "text": [
            "Accuracy : 91.71043337232418%\n"
          ],
          "name": "stdout"
        }
      ]
    }
  ]
}